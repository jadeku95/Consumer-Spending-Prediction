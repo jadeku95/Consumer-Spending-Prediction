{
 "cells": [
  {
   "cell_type": "code",
   "execution_count": 19,
   "id": "8e26eb46",
   "metadata": {},
   "outputs": [],
   "source": [
    "import pandas as pd\n",
    "import numpy as np\n",
    "from sklearn.preprocessing import StandardScaler\n",
    "from sklearn.model_selection import cross_val_score, train_test_split\n",
    "from sklearn.model_selection import GridSearchCV, cross_val_score, KFold\n",
    "from sklearn import neighbors\n",
    "from sklearn import linear_model\n",
    "from sklearn.linear_model import Ridge, Lasso, ElasticNet\n",
    "from sklearn import tree\n",
    "from sklearn.svm import SVR\n",
    "from sklearn.ensemble import RandomForestRegressor\n",
    "from sklearn.metrics import mean_squared_error, roc_curve, auc, confusion_matrix,plot_confusion_matrix, classification_report\n",
    "import xgboost as xgb\n",
    "import warnings\n",
    "warnings.filterwarnings('ignore')"
   ]
  },
  {
   "cell_type": "code",
   "execution_count": 2,
   "id": "848c2c11",
   "metadata": {},
   "outputs": [
    {
     "name": "stdout",
     "output_type": "stream",
     "text": [
      "<class 'pandas.core.frame.DataFrame'>\n",
      "RangeIndex: 2000 entries, 0 to 1999\n",
      "Data columns (total 25 columns):\n",
      " #   Column                Non-Null Count  Dtype  \n",
      "---  ------                --------------  -----  \n",
      " 0   sequence_number       2000 non-null   int64  \n",
      " 1   US                    2000 non-null   int64  \n",
      " 2   source_a              2000 non-null   int64  \n",
      " 3   source_c              2000 non-null   int64  \n",
      " 4   source_b              2000 non-null   int64  \n",
      " 5   source_d              2000 non-null   int64  \n",
      " 6   source_e              2000 non-null   int64  \n",
      " 7   source_m              2000 non-null   int64  \n",
      " 8   source_o              2000 non-null   int64  \n",
      " 9   source_h              2000 non-null   int64  \n",
      " 10  source_r              2000 non-null   int64  \n",
      " 11  source_s              2000 non-null   int64  \n",
      " 12  source_t              2000 non-null   int64  \n",
      " 13  source_u              2000 non-null   int64  \n",
      " 14  source_p              2000 non-null   int64  \n",
      " 15  source_x              2000 non-null   int64  \n",
      " 16  source_w              2000 non-null   int64  \n",
      " 17  Freq                  2000 non-null   int64  \n",
      " 18  last_update_days_ago  2000 non-null   int64  \n",
      " 19  1st_update_days_ago   2000 non-null   int64  \n",
      " 20  Web order             2000 non-null   int64  \n",
      " 21  Gender=male           2000 non-null   int64  \n",
      " 22  Address_is_res        2000 non-null   int64  \n",
      " 23  Purchase              2000 non-null   int64  \n",
      " 24  Spending              2000 non-null   float64\n",
      "dtypes: float64(1), int64(24)\n",
      "memory usage: 390.8 KB\n"
     ]
    }
   ],
   "source": [
    "data = pd.read_excel(\"HW3.xlsx\", header=0)\n",
    "data.info()"
   ]
  },
  {
   "cell_type": "markdown",
   "id": "a9096037",
   "metadata": {},
   "source": [
    "## Import data"
   ]
  },
  {
   "cell_type": "code",
   "execution_count": 3,
   "id": "c9b06ad6",
   "metadata": {},
   "outputs": [
    {
     "data": {
      "text/html": [
       "<div>\n",
       "<style scoped>\n",
       "    .dataframe tbody tr th:only-of-type {\n",
       "        vertical-align: middle;\n",
       "    }\n",
       "\n",
       "    .dataframe tbody tr th {\n",
       "        vertical-align: top;\n",
       "    }\n",
       "\n",
       "    .dataframe thead th {\n",
       "        text-align: right;\n",
       "    }\n",
       "</style>\n",
       "<table border=\"1\" class=\"dataframe\">\n",
       "  <thead>\n",
       "    <tr style=\"text-align: right;\">\n",
       "      <th></th>\n",
       "      <th>US</th>\n",
       "      <th>source_a</th>\n",
       "      <th>source_c</th>\n",
       "      <th>source_b</th>\n",
       "      <th>source_d</th>\n",
       "      <th>source_e</th>\n",
       "      <th>source_m</th>\n",
       "      <th>source_o</th>\n",
       "      <th>source_h</th>\n",
       "      <th>source_r</th>\n",
       "      <th>...</th>\n",
       "      <th>source_p</th>\n",
       "      <th>source_x</th>\n",
       "      <th>source_w</th>\n",
       "      <th>Freq</th>\n",
       "      <th>last_update_days_ago</th>\n",
       "      <th>1st_update_days_ago</th>\n",
       "      <th>Web order</th>\n",
       "      <th>Gender=male</th>\n",
       "      <th>Address_is_res</th>\n",
       "      <th>Spending</th>\n",
       "    </tr>\n",
       "  </thead>\n",
       "  <tbody>\n",
       "    <tr>\n",
       "      <th>0</th>\n",
       "      <td>1</td>\n",
       "      <td>0</td>\n",
       "      <td>0</td>\n",
       "      <td>1</td>\n",
       "      <td>0</td>\n",
       "      <td>0</td>\n",
       "      <td>0</td>\n",
       "      <td>0</td>\n",
       "      <td>0</td>\n",
       "      <td>0</td>\n",
       "      <td>...</td>\n",
       "      <td>0</td>\n",
       "      <td>0</td>\n",
       "      <td>0</td>\n",
       "      <td>2</td>\n",
       "      <td>3662</td>\n",
       "      <td>3662</td>\n",
       "      <td>1</td>\n",
       "      <td>0</td>\n",
       "      <td>1</td>\n",
       "      <td>127.87</td>\n",
       "    </tr>\n",
       "    <tr>\n",
       "      <th>1</th>\n",
       "      <td>1</td>\n",
       "      <td>0</td>\n",
       "      <td>0</td>\n",
       "      <td>0</td>\n",
       "      <td>0</td>\n",
       "      <td>1</td>\n",
       "      <td>0</td>\n",
       "      <td>0</td>\n",
       "      <td>0</td>\n",
       "      <td>0</td>\n",
       "      <td>...</td>\n",
       "      <td>0</td>\n",
       "      <td>0</td>\n",
       "      <td>0</td>\n",
       "      <td>0</td>\n",
       "      <td>2900</td>\n",
       "      <td>2900</td>\n",
       "      <td>1</td>\n",
       "      <td>1</td>\n",
       "      <td>0</td>\n",
       "      <td>0.00</td>\n",
       "    </tr>\n",
       "    <tr>\n",
       "      <th>2</th>\n",
       "      <td>1</td>\n",
       "      <td>0</td>\n",
       "      <td>0</td>\n",
       "      <td>0</td>\n",
       "      <td>0</td>\n",
       "      <td>0</td>\n",
       "      <td>0</td>\n",
       "      <td>0</td>\n",
       "      <td>0</td>\n",
       "      <td>0</td>\n",
       "      <td>...</td>\n",
       "      <td>0</td>\n",
       "      <td>0</td>\n",
       "      <td>0</td>\n",
       "      <td>2</td>\n",
       "      <td>3883</td>\n",
       "      <td>3914</td>\n",
       "      <td>0</td>\n",
       "      <td>0</td>\n",
       "      <td>0</td>\n",
       "      <td>127.48</td>\n",
       "    </tr>\n",
       "  </tbody>\n",
       "</table>\n",
       "<p>3 rows × 23 columns</p>\n",
       "</div>"
      ],
      "text/plain": [
       "   US  source_a  source_c  source_b  source_d  source_e  source_m  source_o  \\\n",
       "0   1         0         0         1         0         0         0         0   \n",
       "1   1         0         0         0         0         1         0         0   \n",
       "2   1         0         0         0         0         0         0         0   \n",
       "\n",
       "   source_h  source_r  ...  source_p  source_x  source_w  Freq  \\\n",
       "0         0         0  ...         0         0         0     2   \n",
       "1         0         0  ...         0         0         0     0   \n",
       "2         0         0  ...         0         0         0     2   \n",
       "\n",
       "   last_update_days_ago  1st_update_days_ago  Web order  Gender=male  \\\n",
       "0                  3662                 3662          1            0   \n",
       "1                  2900                 2900          1            1   \n",
       "2                  3883                 3914          0            0   \n",
       "\n",
       "   Address_is_res  Spending  \n",
       "0               1    127.87  \n",
       "1               0      0.00  \n",
       "2               0    127.48  \n",
       "\n",
       "[3 rows x 23 columns]"
      ]
     },
     "execution_count": 3,
     "metadata": {},
     "output_type": "execute_result"
    }
   ],
   "source": [
    "df = data.drop([\"sequence_number\",\"Purchase\"], axis=1)\n",
    "df.head(3)"
   ]
  },
  {
   "cell_type": "markdown",
   "id": "e65e9cbf",
   "metadata": {},
   "source": [
    "## Formate data"
   ]
  },
  {
   "cell_type": "code",
   "execution_count": 4,
   "id": "90468b72",
   "metadata": {},
   "outputs": [],
   "source": [
    "c = df.loc[:, ~df.columns.isin(['Freq', 'last_update_days_ago', '1st_update_days_ago','Spending'])].columns\n",
    "for col in c:\n",
    "    df[col] = df[col].astype('str')"
   ]
  },
  {
   "cell_type": "code",
   "execution_count": 5,
   "id": "2893aab0",
   "metadata": {},
   "outputs": [
    {
     "data": {
      "text/plain": [
       "US                       object\n",
       "source_a                 object\n",
       "source_c                 object\n",
       "source_b                 object\n",
       "source_d                 object\n",
       "source_e                 object\n",
       "source_m                 object\n",
       "source_o                 object\n",
       "source_h                 object\n",
       "source_r                 object\n",
       "source_s                 object\n",
       "source_t                 object\n",
       "source_u                 object\n",
       "source_p                 object\n",
       "source_x                 object\n",
       "source_w                 object\n",
       "Freq                      int64\n",
       "last_update_days_ago      int64\n",
       "1st_update_days_ago       int64\n",
       "Web order                object\n",
       "Gender=male              object\n",
       "Address_is_res           object\n",
       "Spending                float64\n",
       "dtype: object"
      ]
     },
     "execution_count": 5,
     "metadata": {},
     "output_type": "execute_result"
    }
   ],
   "source": [
    "df.dtypes"
   ]
  },
  {
   "cell_type": "code",
   "execution_count": 6,
   "id": "f25edb8f",
   "metadata": {},
   "outputs": [
    {
     "data": {
      "text/plain": [
       "US                      0\n",
       "source_a                0\n",
       "source_c                0\n",
       "source_b                0\n",
       "source_d                0\n",
       "source_e                0\n",
       "source_m                0\n",
       "source_o                0\n",
       "source_h                0\n",
       "source_r                0\n",
       "source_s                0\n",
       "source_t                0\n",
       "source_u                0\n",
       "source_p                0\n",
       "source_x                0\n",
       "source_w                0\n",
       "Freq                    0\n",
       "last_update_days_ago    0\n",
       "1st_update_days_ago     0\n",
       "Web order               0\n",
       "Gender=male             0\n",
       "Address_is_res          0\n",
       "Spending                0\n",
       "dtype: int64"
      ]
     },
     "execution_count": 6,
     "metadata": {},
     "output_type": "execute_result"
    }
   ],
   "source": [
    "# Check missing value\n",
    "df.isnull().sum()"
   ]
  },
  {
   "cell_type": "code",
   "execution_count": 8,
   "id": "46b64909",
   "metadata": {},
   "outputs": [],
   "source": [
    "#Splitting the data\n",
    "feature = df.loc[:, df.columns!=\"Spending\"]\n",
    "target = df.loc[:, df.columns=='Spending']\n",
    "X_train, X_test, y_train, y_test = train_test_split(feature, target, test_size=0.2, random_state=0)"
   ]
  },
  {
   "cell_type": "code",
   "execution_count": 9,
   "id": "1f28fffd",
   "metadata": {},
   "outputs": [],
   "source": [
    "# Normalization\n",
    "scaler = StandardScaler()\n",
    "scaler.fit(X_train[['Freq', 'last_update_days_ago', '1st_update_days_ago']])\n",
    "X_train[['Freq', 'last_update_days_ago', '1st_update_days_ago']] =scaler.transform(X_train[['Freq', 'last_update_days_ago', '1st_update_days_ago']])\n",
    "X_test[['Freq', 'last_update_days_ago', '1st_update_days_ago']] = scaler.transform(X_test[['Freq', 'last_update_days_ago', '1st_update_days_ago']])"
   ]
  },
  {
   "cell_type": "code",
   "execution_count": 11,
   "id": "82a5b808",
   "metadata": {},
   "outputs": [],
   "source": [
    "# define cross_validation settings\n",
    "inner_cv = KFold(n_splits=5,shuffle = True,random_state = 1)\n",
    "outer_cv = KFold(n_splits=5,shuffle = True,random_state = 1)"
   ]
  },
  {
   "cell_type": "markdown",
   "id": "b56c2500",
   "metadata": {},
   "source": [
    "## KNN Regression"
   ]
  },
  {
   "cell_type": "code",
   "execution_count": 17,
   "id": "61374f89",
   "metadata": {},
   "outputs": [
    {
     "name": "stdout",
     "output_type": "stream",
     "text": [
      "Best hyperparameter is {'n_neighbors': 12, 'weights': 'uniform'}\n",
      "MSE: 10448.243826730903\n"
     ]
    }
   ],
   "source": [
    "knn = neighbors.KNeighborsRegressor()\n",
    "p_grid ={\n",
    "    \"weights\" : [\"uniform\", \"distance\"], \n",
    "    \"n_neighbors\": range(2,20)\n",
    "}\n",
    "\n",
    "# Search for best hyperparameters\n",
    "clf = GridSearchCV(estimator=knn, param_grid=p_grid, cv=inner_cv, scoring='neg_mean_squared_error')\n",
    "clf.fit(X_train, y_train)\n",
    "\n",
    "y_pred = clf.predict(X_test)\n",
    "mse = mean_squared_error(y_test, y_pred)\n",
    "\n",
    "print(f'Best hyperparameter is {clf.best_params_}')\n",
    "print(f\"MSE: {mse}\") "
   ]
  },
  {
   "cell_type": "markdown",
   "id": "6ac30cb1",
   "metadata": {},
   "source": [
    "## ElasticNet Regression"
   ]
  },
  {
   "cell_type": "code",
   "execution_count": 24,
   "id": "cb453dc4",
   "metadata": {},
   "outputs": [
    {
     "name": "stdout",
     "output_type": "stream",
     "text": [
      "Best hyperparameter is {'alpha': 0.01, 'l1_ratio': 0.1}\n",
      "MSE: 10357.691345309508\n"
     ]
    }
   ],
   "source": [
    "en = ElasticNet()\n",
    "p_grid ={\n",
    "    \"alpha\" : [0.001,0.01,1,10],\n",
    "    \"l1_ratio\": [0.1,0.3,0.5,0.7]\n",
    "}\n",
    "# Search for best hyperparameters\n",
    "clf = GridSearchCV(estimator=en, param_grid=p_grid, cv=inner_cv, scoring='neg_mean_squared_error')\n",
    "clf.fit(X_train, y_train)\n",
    "\n",
    "y_pred = clf.predict(X_test)\n",
    "mse = mean_squared_error(y_test, y_pred)\n",
    "\n",
    "print(f'Best hyperparameter is {clf.best_params_}')\n",
    "print(f\"MSE: {mse}\")"
   ]
  },
  {
   "cell_type": "markdown",
   "id": "50e1288f",
   "metadata": {},
   "source": [
    "## Regression Tree"
   ]
  },
  {
   "cell_type": "code",
   "execution_count": 25,
   "id": "02c7fe4d",
   "metadata": {},
   "outputs": [
    {
     "name": "stdout",
     "output_type": "stream",
     "text": [
      "Best hyperparameter is {'max_depth': 5, 'min_samples_split': 10}\n",
      "MSE: 11567.19858786886\n"
     ]
    }
   ],
   "source": [
    "dt = tree.DecisionTreeRegressor()\n",
    "\n",
    "p_grid = {\"min_samples_split\": [10, 20, 40],\n",
    "          \"max_depth\": [2,3,4,5,6,7,10,20]}\n",
    "\n",
    "# Search for best hyperparameters\n",
    "clf = GridSearchCV(estimator=dt, param_grid=p_grid, cv=inner_cv, scoring='neg_mean_squared_error')\n",
    "clf.fit(X_train, y_train)\n",
    "\n",
    "y_pred = clf.predict(X_test)\n",
    "mse = mean_squared_error(y_test, y_pred)\n",
    "\n",
    "print(f'Best hyperparameter is {clf.best_params_}')\n",
    "print(f\"MSE: {mse}\")"
   ]
  },
  {
   "cell_type": "markdown",
   "id": "8c34cefb",
   "metadata": {},
   "source": [
    "## SVM regression"
   ]
  },
  {
   "cell_type": "code",
   "execution_count": 26,
   "id": "2af970e6",
   "metadata": {},
   "outputs": [
    {
     "name": "stdout",
     "output_type": "stream",
     "text": [
      "Best hyperparameter is {'C': 100, 'gamma': 1, 'kernel': 'linear'}\n",
      "MSE: 12491.80850128714\n"
     ]
    }
   ],
   "source": [
    "svm = SVR()\n",
    "p_grid = {'C': [0.1,1, 10, 100], \n",
    "          'gamma': [1,0.1,0.01,0.001],\n",
    "          'kernel': ['rbf', 'poly', 'sigmoid', 'linear']}\n",
    "\n",
    "# Search for best hyperparameters\n",
    "clf = GridSearchCV(estimator=svm, param_grid=p_grid, cv=inner_cv, scoring='neg_mean_squared_error')\n",
    "clf.fit(X_train, y_train)\n",
    "\n",
    "y_pred = clf.predict(X_test)\n",
    "mse = mean_squared_error(y_test, y_pred)\n",
    "\n",
    "print(f'Best hyperparameter is {clf.best_params_}')\n",
    "print(f\"MSE: {mse}\")"
   ]
  },
  {
   "cell_type": "markdown",
   "id": "caff0ee4",
   "metadata": {},
   "source": [
    "## Random Forest Regression"
   ]
  },
  {
   "cell_type": "code",
   "execution_count": 27,
   "id": "5df1e997",
   "metadata": {},
   "outputs": [
    {
     "name": "stdout",
     "output_type": "stream",
     "text": [
      "Best hyperparameter is {'bootstrap': False, 'max_depth': 7, 'max_features': 'sqrt', 'n_estimators': 200}\n",
      "MSE: 10908.55621454224\n"
     ]
    }
   ],
   "source": [
    "rf = RandomForestRegressor()\n",
    "\n",
    "# Method of selecting samples for training each tree\n",
    "bootstrap = [True, False]\n",
    "\n",
    "p_grid = { 'n_estimators': [200,300,400],\n",
    "            'max_features': ['sqrt','log2'],\n",
    "            'max_depth' : [3,4,5,6,7],\n",
    "            'bootstrap': bootstrap}\n",
    "\n",
    "# Search for best hyperparameters\n",
    "clf = GridSearchCV(estimator=rf, param_grid=p_grid, cv=inner_cv, scoring='neg_mean_squared_error')\n",
    "clf.fit(X_train, y_train)\n",
    "\n",
    "y_pred = clf.predict(X_test)\n",
    "mse = mean_squared_error(y_test, y_pred)\n",
    "\n",
    "print(f'Best hyperparameter is {clf.best_params_}')\n",
    "print(f\"MSE: {mse}\")"
   ]
  },
  {
   "cell_type": "markdown",
   "id": "fb19a263",
   "metadata": {},
   "source": [
    "## Neural Network"
   ]
  },
  {
   "cell_type": "code",
   "execution_count": 29,
   "id": "16d0a339",
   "metadata": {},
   "outputs": [],
   "source": [
    "import tensorflow.keras.backend as K\n",
    "from keras.models import Sequential\n",
    "from keras.layers import Dense, Dropout, BatchNormalization\n",
    "from keras import optimizers\n",
    "from keras.wrappers.scikit_learn import KerasRegressor\n",
    "from sklearn.metrics import mean_squared_error"
   ]
  },
  {
   "cell_type": "code",
   "execution_count": 30,
   "id": "7e4fff29",
   "metadata": {},
   "outputs": [],
   "source": [
    "# Transform object data into float data as Keras do not accept object data \n",
    "X_train_float=np.asarray(X_train).astype(np.float32)\n",
    "X_test_float=np.asarray(X_test).astype(np.float32)\n",
    "y_train_float=np.asarray(y_train).astype(np.float32)\n",
    "y_test_float=np.asarray(y_test).astype(np.float32)"
   ]
  },
  {
   "cell_type": "code",
   "execution_count": 34,
   "id": "91093d88",
   "metadata": {},
   "outputs": [
    {
     "name": "stdout",
     "output_type": "stream",
     "text": [
      "Best hyperparameter is {'activation': 'relu', 'epochs': 9, 'hidden': 128, 'optimizer': 'adam'}\n",
      "MSE: 8905.474609375\n"
     ]
    }
   ],
   "source": [
    "def create_model(activation, optimizer, hidden):\n",
    "    model = Sequential()\n",
    "    model.add(Dense(hidden, input_dim=X_train_float.shape[1], activation=activation))\n",
    "    model.add(Dense(hidden, activation=activation))\n",
    "    model.add(Dense(hidden, activation=activation))\n",
    "    model.add(Dense(1, activation = 'linear'))\n",
    "    model.compile(loss='mean_squared_error', optimizer=optimizer, metrics=['mse'])    \n",
    "    return model\n",
    "\n",
    "# Neural Network hyperparameter tuning\n",
    "activations = ['relu', 'tanh']\n",
    "optimizers = ['adam']\n",
    "hiddens = [32, 64, 128, 256]\n",
    "epochs = list(range(3, 10))\n",
    "p_grid = dict(activation=activations, \n",
    "             optimizer=optimizers, \n",
    "             hidden=hiddens,\n",
    "             epochs = epochs)\n",
    "\n",
    "classifierNN = KerasRegressor(build_fn = create_model, verbose = 0)\n",
    "\n",
    "# Search for best hyperparameters\n",
    "clf = GridSearchCV(estimator=classifierNN, param_grid=p_grid, cv=inner_cv, scoring='neg_mean_squared_error')\n",
    "clf.fit(X_train_float, y_train_float)\n",
    "\n",
    "y_pred = clf.predict(X_test_float)\n",
    "mse = mean_squared_error(y_test_float, y_pred)\n",
    "\n",
    "print(f'Best hyperparameter is {clf.best_params_}')\n",
    "print(f\"MSE: {mse}\")"
   ]
  },
  {
   "cell_type": "markdown",
   "id": "ae1f8355",
   "metadata": {},
   "source": [
    "Regression models including KNN, Elastic Net, Regression Tree, SVM regression, Random Forest and Neural Network are built and mean squared error is set as metric. Based on the results, the 3 layers deep neural network with 128 neurons outperformed other models with the lowest MSE."
   ]
  }
 ],
 "metadata": {
  "kernelspec": {
   "display_name": "Python 3 (ipykernel)",
   "language": "python",
   "name": "python3"
  },
  "language_info": {
   "codemirror_mode": {
    "name": "ipython",
    "version": 3
   },
   "file_extension": ".py",
   "mimetype": "text/x-python",
   "name": "python",
   "nbconvert_exporter": "python",
   "pygments_lexer": "ipython3",
   "version": "3.10.6"
  }
 },
 "nbformat": 4,
 "nbformat_minor": 5
}
